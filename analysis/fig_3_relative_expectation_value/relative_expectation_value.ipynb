{
 "cells": [
  {
   "cell_type": "markdown",
   "id": "5e09d7cd-c41c-47db-99c2-265c2a3aca37",
   "metadata": {},
   "source": [
    "### Plotting of relative expectation value\n",
    "We use the following expression for the ratio of expectation values: \n",
    "\n",
    "$\\frac{_L \\langle 0|\\hat{n}^p| 0 \\rangle _L}{ _L \\langle 1| \\\n",
    "\\hat{n}^p| 1 \\rangle _L} = \\frac{\\mathcal{N}_-(\\langle\\hat{n}^p \\rangle + S_{n^p \\pm})}{\\mathcal{N}_+(\\langle\\hat{n}^p\\rangle - S_{n^p \\\n",
    "\\pm})}$,\n",
    "\n",
    "where \n",
    "\n",
    "$\\mathcal{N}_{\\pm} = 2(1 \\pm \\text{cosh}^{-1/2}(2r))$,\n",
    "\n",
    "$S_{n^p \\pm} = \\langle 0 | S^\\dagger (\\pm \\xi) \\hat{n}^p S(\\mp \\xi) | \\\n",
    "0 \\rangle =  \\frac{1}{\\text{cosh}r}\\sum_{n=0}^{\\infty}(-1)^n \\\n",
    "\\frac{(2n)!}{(2^n n!)^2} (2n)^p \\text{ tanh}^{2n} r$,\n",
    "\n",
    "$\\langle \\hat{n}^p \\rangle =  \\langle 0 | S^\\dagger (\\pm \\xi) \\\n",
    "\\hat{n}^p S(\\pm \\xi) | 0 \\rangle  = \\frac{1}{\\text{cosh}r}\\sum_{n=0}^{\\infty} \\frac{(2n)!}{(2^n n!)^2} (2n)^p \\text{ \\\n",
    "tanh}^{2n} r$.\n",
    "\n",
    "There is a factor $2\\text{cosh}^{-1}r$ that cancels from the ratio. The remaining sums are evaluated in Mathematica for $p\\in\\{1, 2, 3, 4\\}$ (see separate file). Here we plot the result as a function of squeezing strength.\n"
   ]
  },
  {
   "cell_type": "code",
   "execution_count": 1,
   "id": "d42df159-1ea6-4d46-9d59-be9f7fdc5a30",
   "metadata": {},
   "outputs": [],
   "source": [
    "using HypergeometricFunctions"
   ]
  },
  {
   "cell_type": "code",
   "execution_count": 2,
   "id": "11fbeede-5787-456f-8f31-3e891d486c69",
   "metadata": {},
   "outputs": [],
   "source": [
    "using PyPlot"
   ]
  },
  {
   "cell_type": "code",
   "execution_count": 3,
   "id": "0236a7dd-2340-4562-83af-8405cfadb7a5",
   "metadata": {},
   "outputs": [
    {
     "data": {
      "text/plain": [
       "ratio_p_eq_1 (generic function with 1 method)"
      ]
     },
     "execution_count": 3,
     "metadata": {},
     "output_type": "execute_result"
    }
   ],
   "source": [
    "function ratio_p_eq_1(r)\n",
    "    prefactor = (1-cosh(2*r)^(-1/2))/(1+ cosh(2*r)^(-1/2))\n",
    "    expect_n = tanh(r)^2/(sech(r)^2)^(3/2)\n",
    "    S_n_pm = -(tanh(r)^2/(1 + tanh(r)^2)^(3/2))\n",
    "    \n",
    "    return prefactor*(expect_n + S_n_pm)/(expect_n -S_n_pm)\n",
    "end"
   ]
  },
  {
   "cell_type": "code",
   "execution_count": 4,
   "id": "7bdbf868-b7b6-47ec-8c42-7deba0e9c699",
   "metadata": {},
   "outputs": [
    {
     "data": {
      "text/plain": [
       "ratio_p_eq_2 (generic function with 1 method)"
      ]
     },
     "execution_count": 4,
     "metadata": {},
     "output_type": "execute_result"
    }
   ],
   "source": [
    "function ratio_p_eq_2(r)\n",
    "    prefactor = (1-cosh(2*r)^(-1/2))/(1+ cosh(2*r)^(-1/2))\n",
    "    expect_n2 = (sinh(r)^2*(2 + tanh(r)^2))/(sech(r)^2)^(3/2)\n",
    "    S_n2_pm = (tanh(r)^2*(-2 + tanh(r)^2))/(1 + tanh(r)^2)^(5/2)\n",
    "    \n",
    "    return prefactor*(expect_n2 + S_n2_pm)/(expect_n2 -S_n2_pm)\n",
    "end"
   ]
  },
  {
   "cell_type": "code",
   "execution_count": 5,
   "id": "25eff0ee-0a6c-4a5e-a5f5-31f74aa608d1",
   "metadata": {},
   "outputs": [
    {
     "data": {
      "text/plain": [
       "ratio_p_eq_3 (generic function with 1 method)"
      ]
     },
     "execution_count": 5,
     "metadata": {},
     "output_type": "execute_result"
    }
   ],
   "source": [
    "function ratio_p_eq_3(r)\n",
    "    prefactor = (1-cosh(2*r)^(-1/2))/(1+ cosh(2*r)^(-1/2))\n",
    "    expect_n3 = (cosh(r)^4*sinh(r)^2*(4 + 10*tanh(r)^2 + tanh(r)^4))/sqrt(sech(r)^2)\n",
    "    S_n3_pm = -((tanh(r)^2*(4 - 10*tanh(r)^2 + tanh(r)^4))/(1 + tanh(r)^2)^(7/2))\n",
    "    \n",
    "    return prefactor*(expect_n3 + S_n3_pm)/(expect_n3 -S_n3_pm)\n",
    "end"
   ]
  },
  {
   "cell_type": "code",
   "execution_count": 6,
   "id": "0472c68a-cad1-47fc-857a-62b5391a86d1",
   "metadata": {},
   "outputs": [
    {
     "data": {
      "text/plain": [
       "ratio_p_eq_4 (generic function with 1 method)"
      ]
     },
     "execution_count": 6,
     "metadata": {},
     "output_type": "execute_result"
    }
   ],
   "source": [
    "function ratio_p_eq_4(r)\n",
    "    prefactor = (1-cosh(2*r)^(-1/2))/(1+ cosh(2*r)^(-1/2))\n",
    "    expect_n4 = 8*pFq((3/2, 2, 2, 2), (1, 1, 1), tanh(r)^2)*tanh(r)^2\n",
    "    S_n4_pm = -8*pFq((3/2, 2, 2, 2), (1, 1, 1), -tanh(r)^2)*tanh(r)^2\n",
    "    \n",
    "    return prefactor*(expect_n4 + S_n4_pm)/(expect_n4 -S_n4_pm)\n",
    "end"
   ]
  },
  {
   "cell_type": "code",
   "execution_count": 7,
   "id": "176dcd73-9b4a-49c1-91ca-de6eaff0b9cb",
   "metadata": {},
   "outputs": [],
   "source": [
    "r = range(0, 4, 41);"
   ]
  },
  {
   "cell_type": "code",
   "execution_count": 8,
   "id": "8352a2c3-3fa3-4901-b430-5e7427cbfed7",
   "metadata": {},
   "outputs": [
    {
     "data": {
      "image/png": "[encoded data removed]",
      "text/plain": [
       "Figure(PyObject <Figure size 640x480 with 1 Axes>)"
      ]
     },
     "metadata": {},
     "output_type": "display_data"
    },
    {
     "data": {
      "text/plain": [
       "PyObject <matplotlib.legend.Legend object at 0x16cbc0220>"
      ]
     },
     "execution_count": 8,
     "metadata": {},
     "output_type": "execute_result"
    }
   ],
   "source": [
    "plot(r, ratio_p_eq_1.(r), linestyle = \"dashed\", color = \"red\", label = \"p = 1\")\n",
    "plot(r, ratio_p_eq_2.(r), linestyle = \"dashed\", color = \"blue\", label = \"p = 2\")\n",
    "plot(r, ratio_p_eq_3.(r), linestyle = \"dashed\", color = \"green\", label = \"p = 3\")\n",
    "plot(r, ratio_p_eq_4.(r), linestyle = \"dashed\", color = \"black\", label = \"p = 4\")\n",
    "plot(grid=false, framestyle=:box)\n",
    "xlabel(L\"r\", fontsize=15)\n",
    "xticks(ticks=[0, 1,  2, 3, 4], fontsize=11)\n",
    "yticks(ticks=[0.0, 0.2, 0.4, 0.6, 0.8, 1.0], fontsize=11)\n",
    "ylim(-0.01, 1.01)\n",
    "legend(loc=\"best\")"
   ]
  },
  {
   "cell_type": "code",
   "execution_count": null,
   "id": "dd66431d-a5ea-4e99-b5a5-6acf3affde12",
   "metadata": {},
   "outputs": [],
   "source": []
  }
 ],
 "metadata": {
  "kernelspec": {
   "display_name": "Julia 1.11.3",
   "language": "julia",
   "name": "julia-1.11"
  },
  "language_info": {
   "file_extension": ".jl",
   "mimetype": "application/julia",
   "name": "julia",
   "version": "1.11.3"
  }
 },
 "nbformat": 4,
 "nbformat_minor": 5
}
